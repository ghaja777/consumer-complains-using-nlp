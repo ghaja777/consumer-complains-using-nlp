{
 "cells": [
  {
   "cell_type": "code",
   "execution_count": 1,
   "id": "8c866e01",
   "metadata": {},
   "outputs": [],
   "source": [
    "import nltk"
   ]
  },
  {
   "cell_type": "code",
   "execution_count": 2,
   "id": "7ec88509",
   "metadata": {},
   "outputs": [
    {
     "name": "stdout",
     "output_type": "stream",
     "text": [
      "showing info https://raw.githubusercontent.com/nltk/nltk_data/gh-pages/index.xml\n"
     ]
    },
    {
     "data": {
      "text/plain": [
       "True"
      ]
     },
     "execution_count": 2,
     "metadata": {},
     "output_type": "execute_result"
    }
   ],
   "source": [
    "nltk.download()"
   ]
  },
  {
   "cell_type": "code",
   "execution_count": 3,
   "id": "88c5463d",
   "metadata": {},
   "outputs": [],
   "source": [
    "import numpy as np\n",
    "import pandas as pd"
   ]
  },
  {
   "cell_type": "code",
   "execution_count": 4,
   "id": "c1a0edfc",
   "metadata": {},
   "outputs": [],
   "source": [
    "import os\n",
    "for dirname, _, filenames in os.walk('C:/Users/user/Desktop/dl/complaints_processed.csv'):\n",
    "    for filename in filenames:\n",
    "        print(os.path.join(dirname, filename))"
   ]
  },
  {
   "cell_type": "code",
   "execution_count": 5,
   "id": "1c56239e",
   "metadata": {},
   "outputs": [],
   "source": [
    "df=pd.read_csv('C:/Users/user/Desktop/dl/complaints_processed.csv')\n"
   ]
  },
  {
   "cell_type": "code",
   "execution_count": 6,
   "id": "aa67f1b3",
   "metadata": {},
   "outputs": [
    {
     "data": {
      "text/html": [
       "<div>\n",
       "<style scoped>\n",
       "    .dataframe tbody tr th:only-of-type {\n",
       "        vertical-align: middle;\n",
       "    }\n",
       "\n",
       "    .dataframe tbody tr th {\n",
       "        vertical-align: top;\n",
       "    }\n",
       "\n",
       "    .dataframe thead th {\n",
       "        text-align: right;\n",
       "    }\n",
       "</style>\n",
       "<table border=\"1\" class=\"dataframe\">\n",
       "  <thead>\n",
       "    <tr style=\"text-align: right;\">\n",
       "      <th></th>\n",
       "      <th>Unnamed: 0</th>\n",
       "      <th>product</th>\n",
       "      <th>narrative</th>\n",
       "    </tr>\n",
       "  </thead>\n",
       "  <tbody>\n",
       "    <tr>\n",
       "      <th>0</th>\n",
       "      <td>0</td>\n",
       "      <td>credit_card</td>\n",
       "      <td>purchase order day shipping amount receive pro...</td>\n",
       "    </tr>\n",
       "    <tr>\n",
       "      <th>1</th>\n",
       "      <td>1</td>\n",
       "      <td>credit_card</td>\n",
       "      <td>forwarded message date tue subject please inve...</td>\n",
       "    </tr>\n",
       "    <tr>\n",
       "      <th>2</th>\n",
       "      <td>2</td>\n",
       "      <td>retail_banking</td>\n",
       "      <td>forwarded message cc sent friday pdt subject f...</td>\n",
       "    </tr>\n",
       "    <tr>\n",
       "      <th>3</th>\n",
       "      <td>3</td>\n",
       "      <td>credit_reporting</td>\n",
       "      <td>payment history missing credit report speciali...</td>\n",
       "    </tr>\n",
       "    <tr>\n",
       "      <th>4</th>\n",
       "      <td>4</td>\n",
       "      <td>credit_reporting</td>\n",
       "      <td>payment history missing credit report made mis...</td>\n",
       "    </tr>\n",
       "  </tbody>\n",
       "</table>\n",
       "</div>"
      ],
      "text/plain": [
       "   Unnamed: 0           product  \\\n",
       "0           0       credit_card   \n",
       "1           1       credit_card   \n",
       "2           2    retail_banking   \n",
       "3           3  credit_reporting   \n",
       "4           4  credit_reporting   \n",
       "\n",
       "                                           narrative  \n",
       "0  purchase order day shipping amount receive pro...  \n",
       "1  forwarded message date tue subject please inve...  \n",
       "2  forwarded message cc sent friday pdt subject f...  \n",
       "3  payment history missing credit report speciali...  \n",
       "4  payment history missing credit report made mis...  "
      ]
     },
     "execution_count": 6,
     "metadata": {},
     "output_type": "execute_result"
    }
   ],
   "source": [
    "df.head()"
   ]
  },
  {
   "cell_type": "code",
   "execution_count": 7,
   "id": "d7907a28",
   "metadata": {},
   "outputs": [
    {
     "name": "stdout",
     "output_type": "stream",
     "text": [
      "(162421, 3)\n"
     ]
    }
   ],
   "source": [
    "print(df.shape)"
   ]
  },
  {
   "cell_type": "code",
   "execution_count": 8,
   "id": "a93110f2",
   "metadata": {},
   "outputs": [
    {
     "data": {
      "text/plain": [
       "array(['credit_card', 'retail_banking', 'credit_reporting',\n",
       "       'mortgages_and_loans', 'debt_collection'], dtype=object)"
      ]
     },
     "execution_count": 8,
     "metadata": {},
     "output_type": "execute_result"
    }
   ],
   "source": [
    "df['product'].unique()"
   ]
  },
  {
   "cell_type": "code",
   "execution_count": 9,
   "id": "955735c6",
   "metadata": {},
   "outputs": [
    {
     "name": "stdout",
     "output_type": "stream",
     "text": [
      "<class 'pandas.core.frame.DataFrame'>\n",
      "RangeIndex: 162421 entries, 0 to 162420\n",
      "Data columns (total 3 columns):\n",
      " #   Column      Non-Null Count   Dtype \n",
      "---  ------      --------------   ----- \n",
      " 0   Unnamed: 0  162421 non-null  int64 \n",
      " 1   product     162421 non-null  object\n",
      " 2   narrative   162411 non-null  object\n",
      "dtypes: int64(1), object(2)\n",
      "memory usage: 3.7+ MB\n",
      "None\n"
     ]
    }
   ],
   "source": [
    "print(df.info())"
   ]
  },
  {
   "cell_type": "code",
   "execution_count": 10,
   "id": "c93e8120",
   "metadata": {},
   "outputs": [
    {
     "name": "stdout",
     "output_type": "stream",
     "text": [
      "Unnamed: 0     0\n",
      "product        0\n",
      "narrative     10\n",
      "dtype: int64\n"
     ]
    }
   ],
   "source": [
    "print(df.isnull().sum())"
   ]
  },
  {
   "cell_type": "code",
   "execution_count": 11,
   "id": "7fd141b4",
   "metadata": {},
   "outputs": [
    {
     "name": "stdout",
     "output_type": "stream",
     "text": [
      "credit_reporting       91179\n",
      "debt_collection        23150\n",
      "mortgages_and_loans    18990\n",
      "credit_card            15566\n",
      "retail_banking         13536\n",
      "Name: product, dtype: int64\n"
     ]
    }
   ],
   "source": [
    "print(df['product'].value_counts())"
   ]
  },
  {
   "cell_type": "code",
   "execution_count": 12,
   "id": "cd9bd77d",
   "metadata": {
    "scrolled": true
   },
   "outputs": [
    {
     "data": {
      "image/png": "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\n",
      "text/plain": [
       "<Figure size 640x480 with 1 Axes>"
      ]
     },
     "metadata": {},
     "output_type": "display_data"
    }
   ],
   "source": [
    "import matplotlib.pyplot as plt\n",
    "\n",
    "df['product'].value_counts().plot(kind='bar', color = 'r')\n",
    "plt.show()"
   ]
  },
  {
   "cell_type": "code",
   "execution_count": 13,
   "id": "038f6531",
   "metadata": {},
   "outputs": [],
   "source": [
    "import pandas as pd\n",
    "from sklearn.feature_extraction.text import TfidfVectorizer\n",
    "from sklearn.naive_bayes import MultinomialNB\n",
    "from sklearn.svm import SVC\n",
    "from sklearn.ensemble import RandomForestClassifier\n",
    "from sklearn.tree import DecisionTreeClassifier\n",
    "from sklearn.ensemble import GradientBoostingClassifier\n",
    "from sklearn.model_selection import train_test_split\n",
    "from sklearn.metrics import accuracy_score"
   ]
  },
  {
   "cell_type": "code",
   "execution_count": 14,
   "id": "90fbbf23",
   "metadata": {},
   "outputs": [],
   "source": [
    "X = df['narrative'].fillna('')\n",
    "y = df['product']"
   ]
  },
  {
   "cell_type": "code",
   "execution_count": 15,
   "id": "e8b5ae1e",
   "metadata": {},
   "outputs": [],
   "source": [
    "X_train, X_test, y_train, y_test = train_test_split(X, y, test_size=0.2, random_state=100)\n",
    "vectorizer = TfidfVectorizer()\n",
    "X_train_vec = vectorizer.fit_transform(X_train)\n",
    "X_test_vec = vectorizer.transform(X_test)\n",
    "nb_clf = MultinomialNB()\n",
    "nb_clf.fit(X_train_vec, y_train)\n",
    "nb_pred = nb_clf.predict(X_test_vec)"
   ]
  },
  {
   "cell_type": "code",
   "execution_count": 16,
   "id": "d42caf61",
   "metadata": {},
   "outputs": [
    {
     "name": "stdout",
     "output_type": "stream",
     "text": [
      "Naive Bayes accuracy: 0.8072648914883792\n"
     ]
    }
   ],
   "source": [
    "nb_accuracy = accuracy_score(y_test, nb_pred)\n",
    "print('Naive Bayes accuracy:', nb_accuracy)"
   ]
  }
  